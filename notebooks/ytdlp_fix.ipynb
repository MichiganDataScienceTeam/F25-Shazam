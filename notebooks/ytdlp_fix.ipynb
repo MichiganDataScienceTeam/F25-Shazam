{
 "cells": [
  {
   "cell_type": "code",
   "execution_count": null,
   "id": "6dfdc560",
   "metadata": {},
   "outputs": [],
   "source": [
    "# https://pypi.org/project/ffmpeg-binaries/\n",
    "%pip install ffmpeg-binaries"
   ]
  },
  {
   "cell_type": "code",
   "execution_count": null,
   "id": "a209a308",
   "metadata": {},
   "outputs": [
    {
     "name": "stdout",
     "output_type": "stream",
     "text": [
      "/Users/dennisfj/Michigan/shazam/F25-Shazam/env/lib/python3.13/site-packages/ffmpeg/binaries/ffmpeg\n"
     ]
    }
   ],
   "source": [
    "import ffmpeg\n",
    "\n",
    "# Initialize module (only if no binaries found)\n",
    "ffmpeg.init()\n",
    "\n",
    "# Use the binaries path in other modules\n",
    "print(str(ffmpeg.FFMPEG_PATH))"
   ]
  },
  {
   "cell_type": "code",
   "execution_count": 8,
   "id": "00a0262f",
   "metadata": {},
   "outputs": [
    {
     "data": {
      "text/plain": [
       "'/Users/dennisfj/Michigan/shazam/F25-Shazam/env/lib/python3.13/site-packages/ffmpeg/binaries/ffmpeg'"
      ]
     },
     "execution_count": 8,
     "metadata": {},
     "output_type": "execute_result"
    }
   ],
   "source": [
    "str(ffmpeg.FFMPEG_PATH)"
   ]
  }
 ],
 "metadata": {
  "kernelspec": {
   "display_name": "env",
   "language": "python",
   "name": "python3"
  },
  "language_info": {
   "codemirror_mode": {
    "name": "ipython",
    "version": 3
   },
   "file_extension": ".py",
   "mimetype": "text/x-python",
   "name": "python",
   "nbconvert_exporter": "python",
   "pygments_lexer": "ipython3",
   "version": "3.13.7"
  }
 },
 "nbformat": 4,
 "nbformat_minor": 5
}
